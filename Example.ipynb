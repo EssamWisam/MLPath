{
 "cells": [
  {
   "cell_type": "markdown",
   "metadata": {},
   "source": [
    "#### Imports"
   ]
  },
  {
   "cell_type": "code",
   "execution_count": 23,
   "metadata": {},
   "outputs": [],
   "source": [
    "#!pip install mlpath\n",
    "\n",
    "import numpy as np\n",
    "from sklearn.datasets import make_classification\n",
    "from sklearn.model_selection import train_test_split\n",
    "from sklearn.preprocessing import StandardScaler\n",
    "from sklearn.linear_model import LogisticRegression\n",
    "from sklearn.metrics import accuracy_score, f1_score, classification_report\n",
    "from mlpath import mlquest as mlq\n",
    "\n",
    "mlq.start_quest('Scalar-Logistic-Pipeline')     "
   ]
  },
  {
   "cell_type": "markdown",
   "metadata": {},
   "source": [
    "#### Read and Preprocess"
   ]
  },
  {
   "cell_type": "code",
   "execution_count": 24,
   "metadata": {},
   "outputs": [],
   "source": [
    "# Create custom dataset \n",
    "X, y = mlq.l(make_classification)(n_samples=30000, n_features=20, random_state=42, n_classes=3, n_informative=6)\n",
    "\n",
    "# Split the dataset \n",
    "X_train, X_test, y_train, y_test = mlq.l(train_test_split)(X, y, test_size=0.2, random_state=42)\n",
    "\n",
    "# Preprocess the data \n",
    "scaler = mlq.l(StandardScaler)(with_mean=False)\n",
    "\n",
    "X_train_scaled = scaler.fit_transform(X_train)\n",
    "X_test_scaled = scaler.transform(X_test)"
   ]
  },
  {
   "cell_type": "markdown",
   "metadata": {},
   "source": [
    "#### Train the Model"
   ]
  },
  {
   "cell_type": "code",
   "execution_count": 25,
   "metadata": {},
   "outputs": [
    {
     "data": {
      "text/html": [
       "<style>#sk-container-id-4 {color: black;background-color: white;}#sk-container-id-4 pre{padding: 0;}#sk-container-id-4 div.sk-toggleable {background-color: white;}#sk-container-id-4 label.sk-toggleable__label {cursor: pointer;display: block;width: 100%;margin-bottom: 0;padding: 0.3em;box-sizing: border-box;text-align: center;}#sk-container-id-4 label.sk-toggleable__label-arrow:before {content: \"▸\";float: left;margin-right: 0.25em;color: #696969;}#sk-container-id-4 label.sk-toggleable__label-arrow:hover:before {color: black;}#sk-container-id-4 div.sk-estimator:hover label.sk-toggleable__label-arrow:before {color: black;}#sk-container-id-4 div.sk-toggleable__content {max-height: 0;max-width: 0;overflow: hidden;text-align: left;background-color: #f0f8ff;}#sk-container-id-4 div.sk-toggleable__content pre {margin: 0.2em;color: black;border-radius: 0.25em;background-color: #f0f8ff;}#sk-container-id-4 input.sk-toggleable__control:checked~div.sk-toggleable__content {max-height: 200px;max-width: 100%;overflow: auto;}#sk-container-id-4 input.sk-toggleable__control:checked~label.sk-toggleable__label-arrow:before {content: \"▾\";}#sk-container-id-4 div.sk-estimator input.sk-toggleable__control:checked~label.sk-toggleable__label {background-color: #d4ebff;}#sk-container-id-4 div.sk-label input.sk-toggleable__control:checked~label.sk-toggleable__label {background-color: #d4ebff;}#sk-container-id-4 input.sk-hidden--visually {border: 0;clip: rect(1px 1px 1px 1px);clip: rect(1px, 1px, 1px, 1px);height: 1px;margin: -1px;overflow: hidden;padding: 0;position: absolute;width: 1px;}#sk-container-id-4 div.sk-estimator {font-family: monospace;background-color: #f0f8ff;border: 1px dotted black;border-radius: 0.25em;box-sizing: border-box;margin-bottom: 0.5em;}#sk-container-id-4 div.sk-estimator:hover {background-color: #d4ebff;}#sk-container-id-4 div.sk-parallel-item::after {content: \"\";width: 100%;border-bottom: 1px solid gray;flex-grow: 1;}#sk-container-id-4 div.sk-label:hover label.sk-toggleable__label {background-color: #d4ebff;}#sk-container-id-4 div.sk-serial::before {content: \"\";position: absolute;border-left: 1px solid gray;box-sizing: border-box;top: 0;bottom: 0;left: 50%;z-index: 0;}#sk-container-id-4 div.sk-serial {display: flex;flex-direction: column;align-items: center;background-color: white;padding-right: 0.2em;padding-left: 0.2em;position: relative;}#sk-container-id-4 div.sk-item {position: relative;z-index: 1;}#sk-container-id-4 div.sk-parallel {display: flex;align-items: stretch;justify-content: center;background-color: white;position: relative;}#sk-container-id-4 div.sk-item::before, #sk-container-id-4 div.sk-parallel-item::before {content: \"\";position: absolute;border-left: 1px solid gray;box-sizing: border-box;top: 0;bottom: 0;left: 50%;z-index: -1;}#sk-container-id-4 div.sk-parallel-item {display: flex;flex-direction: column;z-index: 1;position: relative;background-color: white;}#sk-container-id-4 div.sk-parallel-item:first-child::after {align-self: flex-end;width: 50%;}#sk-container-id-4 div.sk-parallel-item:last-child::after {align-self: flex-start;width: 50%;}#sk-container-id-4 div.sk-parallel-item:only-child::after {width: 0;}#sk-container-id-4 div.sk-dashed-wrapped {border: 1px dashed gray;margin: 0 0.4em 0.5em 0.4em;box-sizing: border-box;padding-bottom: 0.4em;background-color: white;}#sk-container-id-4 div.sk-label label {font-family: monospace;font-weight: bold;display: inline-block;line-height: 1.2em;}#sk-container-id-4 div.sk-label-container {text-align: center;}#sk-container-id-4 div.sk-container {/* jupyter's `normalize.less` sets `[hidden] { display: none; }` but bootstrap.min.css set `[hidden] { display: none !important; }` so we also need the `!important` here to be able to override the default hidden behavior on the sphinx rendered scikit-learn.org. See: https://github.com/scikit-learn/scikit-learn/issues/21755 */display: inline-block !important;position: relative;}#sk-container-id-4 div.sk-text-repr-fallback {display: none;}</style><div id=\"sk-container-id-4\" class=\"sk-top-container\"><div class=\"sk-text-repr-fallback\"><pre>LogisticRegression(C=12.0, random_state=20, solver=&#x27;newton-cg&#x27;)</pre><b>In a Jupyter environment, please rerun this cell to show the HTML representation or trust the notebook. <br />On GitHub, the HTML representation is unable to render, please try loading this page with nbviewer.org.</b></div><div class=\"sk-container\" hidden><div class=\"sk-item\"><div class=\"sk-estimator sk-toggleable\"><input class=\"sk-toggleable__control sk-hidden--visually\" id=\"sk-estimator-id-4\" type=\"checkbox\" checked><label for=\"sk-estimator-id-4\" class=\"sk-toggleable__label sk-toggleable__label-arrow\">LogisticRegression</label><div class=\"sk-toggleable__content\"><pre>LogisticRegression(C=12.0, random_state=20, solver=&#x27;newton-cg&#x27;)</pre></div></div></div></div></div>"
      ],
      "text/plain": [
       "LogisticRegression(C=12.0, random_state=20, solver='newton-cg')"
      ]
     },
     "execution_count": 25,
     "metadata": {},
     "output_type": "execute_result"
    }
   ],
   "source": [
    "# Create model\n",
    "model = mlq.l(LogisticRegression)(\n",
    "    penalty='l2',        # L2 regularization\n",
    "    C=12.0,                 # Regularization strength\n",
    "    solver='newton-cg',    # Optimization algorithm\n",
    "    random_state=20\n",
    ")\n",
    "\n",
    "# Train it\n",
    "model.fit(X_train_scaled, y_train)"
   ]
  },
  {
   "cell_type": "markdown",
   "metadata": {},
   "source": [
    "#### Predict"
   ]
  },
  {
   "cell_type": "code",
   "execution_count": 26,
   "metadata": {},
   "outputs": [],
   "source": [
    "# Step 6: Make predictions on the preprocessed test data\n",
    "y_pred = model.predict(X_test_scaled)\n",
    "\n",
    "# Step 7: Evaluate the model's performance\n",
    "accuracy = accuracy_score(y_test, y_pred).item()\n",
    "f1 = f1_score(y_test, y_pred, average='macro').item()\n",
    "\n",
    "\n",
    "mlq.log_metrics(accuracy=accuracy, f1=f1)"
   ]
  },
  {
   "cell_type": "markdown",
   "metadata": {},
   "source": [
    "#### Save and Show Logs"
   ]
  },
  {
   "cell_type": "code",
   "execution_count": 27,
   "metadata": {},
   "outputs": [
    {
     "data": {
      "text/html": [
       "<table>\n",
       "<tr>\n",
       "<th colspan=5 style=\"text-align: center; vertical-align: middle;\">make_classification</th>\n",
       "<th colspan=2 style=\"text-align: center; vertical-align: middle;\">train_test_split</th>\n",
       "<th colspan=1 style=\"text-align: center; vertical-align: middle;\">StandardScaler</th>\n",
       "<th colspan=4 style=\"text-align: center; vertical-align: middle;\">LogisticRegression</th>\n",
       "<th colspan=2 style=\"text-align: center; vertical-align: middle;\">metrics</th>\n",
       "</tr>\n",
       "<th style=\"text-align: center; vertical-align: middle;\">n_samples</th>\n",
       "<th style=\"text-align: center; vertical-align: middle;\">n_features</th>\n",
       "<th style=\"text-align: center; vertical-align: middle;\">random_state</th>\n",
       "<th style=\"text-align: center; vertical-align: middle;\">n_classes</th>\n",
       "<th style=\"text-align: center; vertical-align: middle;\">n_informative</th>\n",
       "<th style=\"text-align: center; vertical-align: middle;\">test_size</th>\n",
       "<th style=\"text-align: center; vertical-align: middle;\">random_state</th>\n",
       "<th style=\"text-align: center; vertical-align: middle;\">with_mean</th>\n",
       "<th style=\"text-align: center; vertical-align: middle;\">penalty</th>\n",
       "<th style=\"text-align: center; vertical-align: middle;\">C</th>\n",
       "<th style=\"text-align: center; vertical-align: middle;\">solver</th>\n",
       "<th style=\"text-align: center; vertical-align: middle;\">random_state</th>\n",
       "<th style=\"text-align: center; vertical-align: middle;\">accuracy</th>\n",
       "<th style=\"text-align: center; vertical-align: middle;\">f1</th>\n",
       "</tr>\n",
       "<tr>\n",
       "<td style=\"text-align: center; vertical-align: middle;\"> <font color=>10000</font></td>\n",
       "<td style=\"text-align: center; vertical-align: middle;\"> <font color=>10</font></td>\n",
       "<td style=\"text-align: center; vertical-align: middle;\"> <font color=>42</font></td>\n",
       "<td style=\"text-align: center; vertical-align: middle;\"> <font color=>3</font></td>\n",
       "<td style=\"text-align: center; vertical-align: middle;\"> <font color=>6</font></td>\n",
       "<td style=\"text-align: center; vertical-align: middle;\"> <font color=>0.4</font></td>\n",
       "<td style=\"text-align: center; vertical-align: middle;\"> <font color=>42</font></td>\n",
       "<td style=\"text-align: center; vertical-align: middle;\"> <font color=>True</font></td>\n",
       "<td style=\"text-align: center; vertical-align: middle;\"> <font color=>none</font></td>\n",
       "<td style=\"text-align: center; vertical-align: middle;\"> <font color=>7.0</font></td>\n",
       "<td style=\"text-align: center; vertical-align: middle;\"> <font color=>newton-cg</font></td>\n",
       "<td style=\"text-align: center; vertical-align: middle;\"> <font color=>20</font></td>\n",
       "<td style=\"text-align: center; vertical-align: middle;\"> <font color=>0.676</font></td>\n",
       "<td style=\"text-align: center; vertical-align: middle;\"> <font color=>0.676</font></td>\n",
       "</tr>\n",
       "<tr>\n",
       "<td style=\"text-align: center; vertical-align: middle;\"> <font color=>10000</font></td>\n",
       "<td style=\"text-align: center; vertical-align: middle;\"> <font color=yellow>20</font></td>\n",
       "<td style=\"text-align: center; vertical-align: middle;\"> <font color=>42</font></td>\n",
       "<td style=\"text-align: center; vertical-align: middle;\"> <font color=>3</font></td>\n",
       "<td style=\"text-align: center; vertical-align: middle;\"> <font color=>6</font></td>\n",
       "<td style=\"text-align: center; vertical-align: middle;\"> <font color=>0.4</font></td>\n",
       "<td style=\"text-align: center; vertical-align: middle;\"> <font color=>42</font></td>\n",
       "<td style=\"text-align: center; vertical-align: middle;\"> <font color=>True</font></td>\n",
       "<td style=\"text-align: center; vertical-align: middle;\"> <font color=yellow>l2</font></td>\n",
       "<td style=\"text-align: center; vertical-align: middle;\"> <font color=yellow>12.0</font></td>\n",
       "<td style=\"text-align: center; vertical-align: middle;\"> <font color=>newton-cg</font></td>\n",
       "<td style=\"text-align: center; vertical-align: middle;\"> <font color=>20</font></td>\n",
       "<td style=\"text-align: center; vertical-align: middle;\"> <font color=yellow>0.678</font></td>\n",
       "<td style=\"text-align: center; vertical-align: middle;\"> <font color=yellow>0.678</font></td>\n",
       "</tr>\n",
       "<tr>\n",
       "<td style=\"text-align: center; vertical-align: middle;\"> <font color=yellow>30000</font></td>\n",
       "<td style=\"text-align: center; vertical-align: middle;\"> <font color=>20</font></td>\n",
       "<td style=\"text-align: center; vertical-align: middle;\"> <font color=>42</font></td>\n",
       "<td style=\"text-align: center; vertical-align: middle;\"> <font color=>3</font></td>\n",
       "<td style=\"text-align: center; vertical-align: middle;\"> <font color=>6</font></td>\n",
       "<td style=\"text-align: center; vertical-align: middle;\"> <font color=yellow>0.2</font></td>\n",
       "<td style=\"text-align: center; vertical-align: middle;\"> <font color=>42</font></td>\n",
       "<td style=\"text-align: center; vertical-align: middle;\"> <font color=yellow>False</font></td>\n",
       "<td style=\"text-align: center; vertical-align: middle;\"> <font color=>l2</font></td>\n",
       "<td style=\"text-align: center; vertical-align: middle;\"> <font color=>12.0</font></td>\n",
       "<td style=\"text-align: center; vertical-align: middle;\"> <font color=>newton-cg</font></td>\n",
       "<td style=\"text-align: center; vertical-align: middle;\"> <font color=>20</font></td>\n",
       "<td style=\"text-align: center; vertical-align: middle;\"> <font color=yellow>0.628</font></td>\n",
       "<td style=\"text-align: center; vertical-align: middle;\"> <font color=yellow>0.628</font></td>\n",
       "</tr>\n"
      ],
      "text/plain": [
       "<IPython.core.display.HTML object>"
      ]
     },
     "metadata": {},
     "output_type": "display_data"
    }
   ],
   "source": [
    "mlq.end_quest('./')\n",
    "\n",
    "mlq.show_logs(quest_name='Scalar-Logistic-Pipeline', last_k=5)"
   ]
  }
 ],
 "metadata": {
  "kernelspec": {
   "display_name": "base",
   "language": "python",
   "name": "python3"
  },
  "language_info": {
   "codemirror_mode": {
    "name": "ipython",
    "version": 3
   },
   "file_extension": ".py",
   "mimetype": "text/x-python",
   "name": "python",
   "nbconvert_exporter": "python",
   "pygments_lexer": "ipython3",
   "version": "3.9.16"
  },
  "orig_nbformat": 4,
  "vscode": {
   "interpreter": {
    "hash": "40d3a090f54c6569ab1632332b64b2c03c39dcf918b08424e98f38b5ae0af88f"
   }
  }
 },
 "nbformat": 4,
 "nbformat_minor": 2
}
