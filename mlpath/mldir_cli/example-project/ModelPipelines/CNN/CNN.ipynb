{
 "cells": [
  {
   "cell_type": "code",
   "execution_count": 11,
   "metadata": {},
   "outputs": [],
   "source": [
    "import sys\n",
    "import torch\n",
    "import torch.nn as nn\n",
    "from mlpath import mlquest as mlq\n",
    "import numpy as np\n",
    "sys.path.append('../../')\n",
    "from DataPreparation.Ingestion.Ingestion import read_data\n",
    "from DataPreparation.Preprocessing.Preprocessing import preprocess_data, deep_data_loader\n",
    "from ModelImplementation.CNN.CNN import ConvNet, train_model, validate_model, save_model, load_model"
   ]
  },
  {
   "cell_type": "code",
   "execution_count": 12,
   "metadata": {},
   "outputs": [],
   "source": [
    "mlq.start_quest('CNN', table_dest='../../')"
   ]
  },
  {
   "attachments": {},
   "cell_type": "markdown",
   "metadata": {},
   "source": [
    "#### Ingestion"
   ]
  },
  {
   "cell_type": "code",
   "execution_count": 13,
   "metadata": {},
   "outputs": [
    {
     "name": "stderr",
     "output_type": "stream",
     "text": [
      "100%|██████████| 5/5 [00:00<00:00, 227.75it/s]\n",
      "100%|██████████| 4/4 [00:00<00:00, 135.02it/s]\n"
     ]
    }
   ],
   "source": [
    "x_train_i, x_val_i, y_train_i, y_val_i = read_data()"
   ]
  },
  {
   "attachments": {},
   "cell_type": "markdown",
   "metadata": {},
   "source": [
    "#### Preprocessing"
   ]
  },
  {
   "cell_type": "code",
   "execution_count": 14,
   "metadata": {},
   "outputs": [
    {
     "name": "stdout",
     "output_type": "stream",
     "text": [
      "(5, 1, 400, 400)\n",
      "torch.Size([2, 1, 400, 400])\n",
      "(2, 1, 400, 400)\n",
      "torch.Size([2, 1, 400, 400])\n"
     ]
    }
   ],
   "source": [
    "x_train_p, x_val_p = preprocess_data(x_train_i, x_val_i)\n",
    "train_loader, val_loader = deep_data_loader(x_train_p, y_train_i, x_val_p, y_val_i, batch_size=2)"
   ]
  },
  {
   "attachments": {},
   "cell_type": "markdown",
   "metadata": {},
   "source": [
    "#### Initiating the Model"
   ]
  },
  {
   "cell_type": "code",
   "execution_count": 15,
   "metadata": {},
   "outputs": [
    {
     "name": "stderr",
     "output_type": "stream",
     "text": [
      "/opt/anaconda3/lib/python3.8/site-packages/torch/nn/modules/lazy.py:180: UserWarning: Lazy modules are a new feature under heavy development so changes to the API or functionality can happen at any moment.\n",
      "  warnings.warn('Lazy modules are a new feature under heavy development '\n"
     ]
    }
   ],
   "source": [
    "model = mlq.l(ConvNet)(hidden_size=80, output_size=2, kernel_dim = 10, in_channels=1, mid_channels=12, out_channels=16)"
   ]
  },
  {
   "attachments": {},
   "cell_type": "markdown",
   "metadata": {},
   "source": [
    "#### Loss and Optimizer"
   ]
  },
  {
   "cell_type": "code",
   "execution_count": 16,
   "metadata": {},
   "outputs": [],
   "source": [
    "loss = nn.CrossEntropyLoss()\n",
    "optimizer = mlq.l(torch.optim.Adam)(model.parameters(), lr=0.001)"
   ]
  },
  {
   "attachments": {},
   "cell_type": "markdown",
   "metadata": {},
   "source": [
    "#### Training the model"
   ]
  },
  {
   "cell_type": "code",
   "execution_count": 17,
   "metadata": {},
   "outputs": [
    {
     "name": "stderr",
     "output_type": "stream",
     "text": [
      "100%|██████████| 3/3 [00:02<00:00,  1.27it/s]\n",
      "100%|██████████| 3/3 [00:02<00:00,  1.36it/s]\n",
      "100%|██████████| 3/3 [00:02<00:00,  1.48it/s]\n",
      "100%|██████████| 3/3 [00:02<00:00,  1.47it/s]\n",
      "100%|██████████| 3/3 [00:02<00:00,  1.44it/s]\n",
      "100%|██████████| 3/3 [00:02<00:00,  1.13it/s]\n",
      "100%|██████████| 3/3 [00:03<00:00,  1.02s/it]\n",
      "100%|██████████| 3/3 [00:02<00:00,  1.08it/s]\n",
      "100%|██████████| 3/3 [00:02<00:00,  1.28it/s]\n",
      "100%|██████████| 3/3 [00:02<00:00,  1.41it/s]\n",
      "100%|██████████| 3/3 [00:02<00:00,  1.48it/s]\n",
      "100%|██████████| 3/3 [00:02<00:00,  1.47it/s]\n"
     ]
    }
   ],
   "source": [
    "mlq.l(train_model)(model, 12, train_loader, loss, optimizer, 'cpu')"
   ]
  },
  {
   "attachments": {},
   "cell_type": "markdown",
   "metadata": {},
   "source": [
    "#### Validate the model"
   ]
  },
  {
   "cell_type": "code",
   "execution_count": 18,
   "metadata": {},
   "outputs": [
    {
     "name": "stdout",
     "output_type": "stream",
     "text": [
      "Model Accuracy is at 0.0 and Random Guessing Accuracy is at 50.0 %\n"
     ]
    }
   ],
   "source": [
    "accuracy, rand_accurary = validate_model(model, val_loader, 'cpu')\n",
    "mlq.log_metrics(accuracy, rand_accurary)"
   ]
  },
  {
   "cell_type": "code",
   "execution_count": 19,
   "metadata": {},
   "outputs": [],
   "source": [
    "mlq.end_quest()"
   ]
  },
  {
   "attachments": {},
   "cell_type": "markdown",
   "metadata": {},
   "source": [
    "#### Show Logs"
   ]
  },
  {
   "cell_type": "code",
   "execution_count": 20,
   "metadata": {},
   "outputs": [
    {
     "data": {
      "text/html": [
       "<table>\n",
       "<tr>\n",
       "<th colspan=4 style=\"text-align: center; vertical-align: middle;\">info</th>\n",
       "<th colspan=6 style=\"text-align: center; vertical-align: middle;\">ConvNet</th>\n",
       "<th colspan=1 style=\"text-align: center; vertical-align: middle;\">Adam</th>\n",
       "<th colspan=5 style=\"text-align: center; vertical-align: middle;\">train_model</th>\n",
       "<th colspan=2 style=\"text-align: center; vertical-align: middle;\">metrics</th>\n",
       "</tr>\n",
       "<th style=\"text-align: center; vertical-align: middle;\">time</th>\n",
       "<th style=\"text-align: center; vertical-align: middle;\">date</th>\n",
       "<th style=\"text-align: center; vertical-align: middle;\">duration</th>\n",
       "<th style=\"text-align: center; vertical-align: middle;\">id</th>\n",
       "<th style=\"text-align: center; vertical-align: middle;\">hidden_size</th>\n",
       "<th style=\"text-align: center; vertical-align: middle;\">output_size</th>\n",
       "<th style=\"text-align: center; vertical-align: middle;\">kernel_dim</th>\n",
       "<th style=\"text-align: center; vertical-align: middle;\">in_channels</th>\n",
       "<th style=\"text-align: center; vertical-align: middle;\">mid_channels</th>\n",
       "<th style=\"text-align: center; vertical-align: middle;\">out_channels</th>\n",
       "<th style=\"text-align: center; vertical-align: middle;\">lr</th>\n",
       "<th style=\"text-align: center; vertical-align: middle;\">model</th>\n",
       "<th style=\"text-align: center; vertical-align: middle;\">num_epochs</th>\n",
       "<th style=\"text-align: center; vertical-align: middle;\">criterion</th>\n",
       "<th style=\"text-align: center; vertical-align: middle;\">optimizer</th>\n",
       "<th style=\"text-align: center; vertical-align: middle;\">device</th>\n",
       "<th style=\"text-align: center; vertical-align: middle;\">accuracy</th>\n",
       "<th style=\"text-align: center; vertical-align: middle;\">rand_accurary</th>\n",
       "</tr>\n",
       "<tr>\n",
       "<td style=\"text-align: center; vertical-align: middle;\"> <font color=white>17:52:43</font></td>\n",
       "<td style=\"text-align: center; vertical-align: middle;\"> <font color=white>04/20/23</font></td>\n",
       "<td style=\"text-align: center; vertical-align: middle;\"> <font color=white>26.53 s</font></td>\n",
       "<td style=\"text-align: center; vertical-align: middle;\"> <font color=white>1</font></td>\n",
       "<td style=\"text-align: center; vertical-align: middle;\"> <font color=white>80</font></td>\n",
       "<td style=\"text-align: center; vertical-align: middle;\"> <font color=white>2</font></td>\n",
       "<td style=\"text-align: center; vertical-align: middle;\"> <font color=white>10</font></td>\n",
       "<td style=\"text-align: center; vertical-align: middle;\"> <font color=white>1</font></td>\n",
       "<td style=\"text-align: center; vertical-align: middle;\"> <font color=white>12</font></td>\n",
       "<td style=\"text-align: center; vertical-align: middle;\"> <font color=white>16</font></td>\n",
       "<td style=\"text-align: center; vertical-align: middle;\"> <font color=white>0.001</font></td>\n",
       "<td style=\"text-align: center; vertical-align: middle;\"> <font color=white>ConvNet(\n",
       "  (feature_extraction): Sequential(\n",
       "    (0): Conv2d...</font></td>\n",
       "<td style=\"text-align: center; vertical-align: middle;\"> <font color=white>12</font></td>\n",
       "<td style=\"text-align: center; vertical-align: middle;\"> <font color=white>CrossEntropyLoss()</font></td>\n",
       "<td style=\"text-align: center; vertical-align: middle;\"> <font color=white>Adam (\n",
       "Parameter Group 0\n",
       "    amsgrad: False\n",
       "    betas: (0.9,...</font></td>\n",
       "<td style=\"text-align: center; vertical-align: middle;\"> <font color=white>cpu</font></td>\n",
       "<td style=\"text-align: center; vertical-align: middle;\"> <font color=white>0.0</font></td>\n",
       "<td style=\"text-align: center; vertical-align: middle;\"> <font color=white>50.0</font></td>\n",
       "</tr>\n"
      ],
      "text/plain": [
       "<IPython.core.display.HTML object>"
      ]
     },
     "metadata": {},
     "output_type": "display_data"
    }
   ],
   "source": [
    "mlq.show_logs(quest_name='CNN', table_dest='../../', last_k=10)"
   ]
  }
 ],
 "metadata": {
  "kernelspec": {
   "display_name": "base",
   "language": "python",
   "name": "python3"
  },
  "language_info": {
   "codemirror_mode": {
    "name": "ipython",
    "version": 3
   },
   "file_extension": ".py",
   "mimetype": "text/x-python",
   "name": "python",
   "nbconvert_exporter": "python",
   "pygments_lexer": "ipython3",
   "version": "3.8.8"
  },
  "orig_nbformat": 4,
  "vscode": {
   "interpreter": {
    "hash": "40d3a090f54c6569ab1632332b64b2c03c39dcf918b08424e98f38b5ae0af88f"
   }
  }
 },
 "nbformat": 4,
 "nbformat_minor": 2
}
