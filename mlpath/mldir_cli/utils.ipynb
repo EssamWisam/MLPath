{
 "cells": [
  {
   "cell_type": "code",
   "execution_count": 2,
   "metadata": {},
   "outputs": [
    {
     "data": {
      "text/plain": [
       "'c:\\\\Users\\\\abdul\\\\Documents\\\\GitHub\\\\MLPath\\\\mlpath\\\\mldir_cli\\\\web.zip'"
      ]
     },
     "execution_count": 2,
     "metadata": {},
     "output_type": "execute_result"
    }
   ],
   "source": [
    "import shutil\n",
    "import pkg_resources\n",
    "\n",
    "shutil.make_archive(pkg_resources.resource_filename(__name__,f'example-project'),'zip', pkg_resources.resource_filename(__name__, f\"/example-project\"))\n",
    "shutil.make_archive(pkg_resources.resource_filename(__name__,f'project'), 'zip', pkg_resources.resource_filename(__name__, f\"/project\"))\n",
    "shutil.make_archive(pkg_resources.resource_filename(__name__,f'simple-project'), 'zip', pkg_resources.resource_filename(__name__, f\"/simple-project\"))\n",
    "shutil.make_archive(pkg_resources.resource_filename(__name__,f'web'), 'zip', pkg_resources.resource_filename(__name__, f\"/web\"))\n"
   ]
  }
 ],
 "metadata": {
  "kernelspec": {
   "display_name": "Python 3",
   "language": "python",
   "name": "python3"
  },
  "language_info": {
   "codemirror_mode": {
    "name": "ipython",
    "version": 3
   },
   "file_extension": ".py",
   "mimetype": "text/x-python",
   "name": "python",
   "nbconvert_exporter": "python",
   "pygments_lexer": "ipython3",
   "version": "3.10.6"
  },
  "orig_nbformat": 4,
  "vscode": {
   "interpreter": {
    "hash": "369f2c481f4da34e4445cda3fffd2e751bd1c4d706f27375911949ba6bb62e1c"
   }
  }
 },
 "nbformat": 4,
 "nbformat_minor": 2
}
