{
 "cells": [
  {
   "cell_type": "code",
   "execution_count": 2,
   "metadata": {},
   "outputs": [
    {
     "data": {
      "text/plain": [
       "'/Users/essam/Documents/GitHub/MLPath/mlpath/mldir_cli/web.zip'"
      ]
     },
     "execution_count": 2,
     "metadata": {},
     "output_type": "execute_result"
    }
   ],
   "source": [
    "import shutil\n",
    "import pkg_resources\n",
    "\n",
    "shutil.make_archive(pkg_resources.resource_filename(__name__,f'example-project'),'zip', pkg_resources.resource_filename(__name__, f\"/example-project\"))\n",
    "shutil.make_archive(pkg_resources.resource_filename(__name__,f'project'), 'zip', pkg_resources.resource_filename(__name__, f\"/project\"))\n",
    "shutil.make_archive(pkg_resources.resource_filename(__name__,f'simple-project'), 'zip', pkg_resources.resource_filename(__name__, f\"/simple-project\"))\n",
    "shutil.make_archive(pkg_resources.resource_filename(__name__,f'web'), 'zip', pkg_resources.resource_filename(__name__, f\"/web\"))\n"
   ]
  }
 ],
 "metadata": {
  "kernelspec": {
   "display_name": "base",
   "language": "python",
   "name": "python3"
  },
  "language_info": {
   "codemirror_mode": {
    "name": "ipython",
    "version": 3
   },
   "file_extension": ".py",
   "mimetype": "text/x-python",
   "name": "python",
   "nbconvert_exporter": "python",
   "pygments_lexer": "ipython3",
   "version": "3.8.8"
  },
  "orig_nbformat": 4,
  "vscode": {
   "interpreter": {
    "hash": "40d3a090f54c6569ab1632332b64b2c03c39dcf918b08424e98f38b5ae0af88f"
   }
  }
 },
 "nbformat": 4,
 "nbformat_minor": 2
}
