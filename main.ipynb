{
 "cells": [
  {
   "cell_type": "code",
   "execution_count": 2,
   "metadata": {},
   "outputs": [
    {
     "ename": "FileNotFoundError",
     "evalue": "[Errno 2] No such file or directory: '/MLPath/mlquests'",
     "output_type": "error",
     "traceback": [
      "\u001b[0;31m---------------------------------------------------------------------------\u001b[0m",
      "\u001b[0;31mFileNotFoundError\u001b[0m                         Traceback (most recent call last)",
      "\u001b[1;32m/Users/essam/Documents/GitHub/MLPath/main.ipynb Cell 1\u001b[0m in \u001b[0;36m<cell line: 18>\u001b[0;34m()\u001b[0m\n\u001b[1;32m     <a href='vscode-notebook-cell:/Users/essam/Documents/GitHub/MLPath/main.ipynb#W0sZmlsZQ%3D%3D?line=13'>14</a>\u001b[0m \u001b[39mdef\u001b[39;00m \u001b[39mDeepNeuralNet\u001b[39m(p_num, k_num, l_num, \u001b[39m*\u001b[39m\u001b[39m*\u001b[39mkwargs):\n\u001b[1;32m     <a href='vscode-notebook-cell:/Users/essam/Documents/GitHub/MLPath/main.ipynb#W0sZmlsZQ%3D%3D?line=14'>15</a>\u001b[0m     \u001b[39mreturn\u001b[39;00m p_num\u001b[39m*\u001b[39m\u001b[39m*\u001b[39mk_num \u001b[39m+\u001b[39m l_num\n\u001b[0;32m---> <a href='vscode-notebook-cell:/Users/essam/Documents/GitHub/MLPath/main.ipynb#W0sZmlsZQ%3D%3D?line=17'>18</a>\u001b[0m mlq\u001b[39m.\u001b[39;49mstart(\u001b[39m'\u001b[39;49m\u001b[39mxyz\u001b[39;49m\u001b[39m'\u001b[39;49m)\n\u001b[1;32m     <a href='vscode-notebook-cell:/Users/essam/Documents/GitHub/MLPath/main.ipynb#W0sZmlsZQ%3D%3D?line=19'>20</a>\u001b[0m accuracy \u001b[39m=\u001b[39m mlq\u001b[39m.\u001b[39ml(NaiveBayes)(alpha\u001b[39m=\u001b[39m\u001b[39m1024\u001b[39m, beta_param\u001b[39m=\u001b[39m\u001b[39m7\u001b[39m, c\u001b[39m=\u001b[39m\u001b[39m12\u001b[39m,  depth_ratio\u001b[39m=\u001b[39m\u001b[39m538\u001b[39m, mega_p\u001b[39m=\u001b[39m\u001b[39m63\u001b[39m, g_estim\u001b[39m=\u001b[39m\u001b[39m3\u001b[39m, h\u001b[39m=\u001b[39m\u001b[39m43\u001b[39m)\n\u001b[1;32m     <a href='vscode-notebook-cell:/Users/essam/Documents/GitHub/MLPath/main.ipynb#W0sZmlsZQ%3D%3D?line=20'>21</a>\u001b[0m gesult \u001b[39m=\u001b[39m mlq\u001b[39m.\u001b[39ml(SVMRegressor)(\u001b[39m14\u001b[39m, \u001b[39m510\u001b[39m, \u001b[39m4\u001b[39m, m_num\u001b[39m=\u001b[39m\u001b[39m63\u001b[39m, g_num\u001b[39m=\u001b[39m\u001b[39m3\u001b[39m, h_num\u001b[39m=\u001b[39m\u001b[39m4\u001b[39m)\n",
      "File \u001b[0;32m~/Documents/GitHub/MLPath/mlpath/mlquest/mlquest.py:35\u001b[0m, in \u001b[0;36mmlquest.start\u001b[0;34m(quest_name, relative_path)\u001b[0m\n\u001b[1;32m     33\u001b[0m \u001b[39m# get the name of the folder containing the current file\u001b[39;00m\n\u001b[1;32m     34\u001b[0m mlquest\u001b[39m.\u001b[39mrelative_path \u001b[39m=\u001b[39m relative_path \u001b[39m+\u001b[39m\u001b[39m'\u001b[39m\u001b[39m/\u001b[39m\u001b[39m'\u001b[39m \u001b[39m+\u001b[39m os\u001b[39m.\u001b[39mgetcwd()\u001b[39m.\u001b[39msplit(\u001b[39m'\u001b[39m\u001b[39m/\u001b[39m\u001b[39m'\u001b[39m)[\u001b[39m-\u001b[39m\u001b[39m1\u001b[39m] \u001b[39m+\u001b[39m \u001b[39m'\u001b[39m\u001b[39m/\u001b[39m\u001b[39m'\u001b[39m\n\u001b[0;32m---> 35\u001b[0m \u001b[39mif\u001b[39;00m \u001b[39mnot\u001b[39;00m os\u001b[39m.\u001b[39mpath\u001b[39m.\u001b[39mexists(mlquest\u001b[39m.\u001b[39mrelative_path \u001b[39m+\u001b[39m \u001b[39m'\u001b[39m\u001b[39mmlquests\u001b[39m\u001b[39m'\u001b[39m): os\u001b[39m.\u001b[39;49mmkdir(mlquest\u001b[39m.\u001b[39;49mrelative_path \u001b[39m+\u001b[39;49m \u001b[39m'\u001b[39;49m\u001b[39mmlquests\u001b[39;49m\u001b[39m'\u001b[39;49m)\n\u001b[1;32m     37\u001b[0m \u001b[39mif\u001b[39;00m \u001b[39m'\u001b[39m\u001b[39mquests.mlq\u001b[39m\u001b[39m'\u001b[39m \u001b[39min\u001b[39;00m os\u001b[39m.\u001b[39mlistdir(mlquest\u001b[39m.\u001b[39mrelative_path \u001b[39m+\u001b[39m \u001b[39m'\u001b[39m\u001b[39mmlquests\u001b[39m\u001b[39m'\u001b[39m):\n\u001b[1;32m     38\u001b[0m      \u001b[39mwith\u001b[39;00m \u001b[39mopen\u001b[39m(mlquest\u001b[39m.\u001b[39mrelative_path \u001b[39m+\u001b[39m \u001b[39m'\u001b[39m\u001b[39mmlquests/quests.mlq\u001b[39m\u001b[39m'\u001b[39m, \u001b[39m'\u001b[39m\u001b[39mrb\u001b[39m\u001b[39m'\u001b[39m) \u001b[39mas\u001b[39;00m f:\n",
      "\u001b[0;31mFileNotFoundError\u001b[0m: [Errno 2] No such file or directory: '/MLPath/mlquests'"
     ]
    }
   ],
   "source": [
    "\"\"\"\n",
    "An example of using the mlpath package.\n",
    "\"\"\"\n",
    "# pylint: skip-file\n",
    "from mlpath import mlquest as mlq\n",
    "\n",
    "# let's try this out\n",
    "def NaiveBayes(alpha, beta_param, c=0, depth_ratio=4, **kwargs):\n",
    "    return alpha + beta_param + c\n",
    "\n",
    "def SVMRegressor(x_param, y_param, z_param, **kwargs):\n",
    "    return x_param * y_param * z_param\n",
    "\n",
    "def DeepNeuralNet(p_num, k_num, l_num, **kwargs):\n",
    "    return p_num**k_num + l_num\n",
    "\n",
    "\n",
    "mlq.start('xyz')\n",
    "\n",
    "accuracy = mlq.l(NaiveBayes)(alpha=1024, beta_param=7, c=12,  depth_ratio=538, mega_p=63, g_estim=3, h=43)\n",
    "gesult = mlq.l(SVMRegressor)(14, 510, 4, m_num=63, g_num=3, h_num=4)\n",
    "result = mlq.l(DeepNeuralNet)(12, 2, 3, m_num=62, g_num=3, h_num=4)\n",
    "#mlq.log_metrics(accuracy=accuracy, gesult=gesult, result=result)\n",
    "\n",
    "mlq.end()\n",
    "\n",
    "print(mlq.experiments['xyz'][-1])\n",
    "\n"
   ]
  },
  {
   "cell_type": "code",
   "execution_count": null,
   "metadata": {},
   "outputs": [
    {
     "data": {
      "text/plain": [
       "'/Users/essam/Documents/GitHub/MLPath/Projects.zip'"
      ]
     },
     "execution_count": 5,
     "metadata": {},
     "output_type": "execute_result"
    }
   ],
   "source": [
    "# compress the Projects folder\n",
    "import shutil\n",
    "shutil.make_archive('Projects', 'zip', 'Projects')"
   ]
  }
 ],
 "metadata": {
  "kernelspec": {
   "display_name": "base",
   "language": "python",
   "name": "python3"
  },
  "language_info": {
   "codemirror_mode": {
    "name": "ipython",
    "version": 3
   },
   "file_extension": ".py",
   "mimetype": "text/x-python",
   "name": "python",
   "nbconvert_exporter": "python",
   "pygments_lexer": "ipython3",
   "version": "3.8.8"
  },
  "orig_nbformat": 4,
  "vscode": {
   "interpreter": {
    "hash": "40d3a090f54c6569ab1632332b64b2c03c39dcf918b08424e98f38b5ae0af88f"
   }
  }
 },
 "nbformat": 4,
 "nbformat_minor": 2
}
