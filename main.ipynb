{
 "cells": [
  {
   "cell_type": "code",
   "execution_count": 9,
   "metadata": {},
   "outputs": [],
   "source": [
    "\"\"\"\n",
    "An example of using the mlpath package.\n",
    "\"\"\"\n",
    "# pylint: skip-file\n",
    "from mlpath import mlquest as mlq\n",
    "\n",
    "# Setup the \n",
    "def Preprocessing(x_data, alpha, beta_param, c=0, depth_ratio=4, a_num=5, b_gum=7, c_hum=12):\n",
    "    return [2, 3, 4]\n",
    "\n",
    "def FeatureExtraction(x_data, x_param, y_param, z_param, a_num=5, b_gum=7, c_hum=12, **kwargs):\n",
    "    return [3, 4, 5]\n",
    "\n",
    "def RadialBasisNet(x_data, p_num, k_num, l_num, a_num=5, b_gum=7, c_hum=12, **kwargs):\n",
    "    return None\n",
    "\n",
    "def train_model(model):\n",
    "    return 70\n",
    "\n",
    "\n",
    "from mlpath import mlquest as mlq\n",
    "l = mlq.l\n",
    "\n",
    "# Start a new quest, this corresponds to a table where every run will be logged.\n",
    "mlq.start_quest('Radial Basis Pipeline', log_defs=False)     \n",
    "\n",
    "# Preprocessing\n",
    "x_data_p = l(Preprocessing)(x_data=[1, 2, 3], alpha=1114, beta_param=2, c=925)\n",
    "\n",
    "# Feature Extraction\n",
    "x_data_f = l(FeatureExtraction)(x_data_p, 32, 50, 4)\n",
    "\n",
    "# Model Initialization\n",
    "model = l(RadialBasisNet)(x_data_f, 99, 19, 31)\n",
    "\n",
    "# Model Training\n",
    "accuracy = l(train_model)(model)\n",
    "\n",
    "# log the accuracy\n",
    "mlq.log_metrics(accuracy)        # can also do mlq.log_metric(acc=accuracy) so its logged as acc\n",
    "\n",
    "mlq.end_quest()\n",
    "\n"
   ]
  },
  {
   "cell_type": "code",
   "execution_count": 10,
   "metadata": {},
   "outputs": [],
   "source": [
    "\n",
    "mlq.delete_runs(table_dest='./', quest_name='Radial Basis Pipeline', run_ids=[1, 2])\n"
   ]
  },
  {
   "cell_type": "code",
   "execution_count": null,
   "metadata": {},
   "outputs": [],
   "source": [
    "# compress the Projects folder\n",
    "#import shutil\n",
    "#shutil.make_archive('Projects', 'zip', 'Projects')"
   ]
  },
  {
   "cell_type": "code",
   "execution_count": null,
   "metadata": {},
   "outputs": [],
   "source": []
  }
 ],
 "metadata": {
  "kernelspec": {
   "display_name": "base",
   "language": "python",
   "name": "python3"
  },
  "language_info": {
   "codemirror_mode": {
    "name": "ipython",
    "version": 3
   },
   "file_extension": ".py",
   "mimetype": "text/x-python",
   "name": "python",
   "nbconvert_exporter": "python",
   "pygments_lexer": "ipython3",
   "version": "3.8.8"
  },
  "orig_nbformat": 4,
  "vscode": {
   "interpreter": {
    "hash": "40d3a090f54c6569ab1632332b64b2c03c39dcf918b08424e98f38b5ae0af88f"
   }
  }
 },
 "nbformat": 4,
 "nbformat_minor": 2
}
