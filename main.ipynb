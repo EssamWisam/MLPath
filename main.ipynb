{
 "cells": [
  {
   "cell_type": "code",
   "execution_count": 6,
   "metadata": {},
   "outputs": [],
   "source": [
    "\"\"\"\n",
    "An example of using the mlpath package.\n",
    "\"\"\"\n",
    "# pylint: skip-file\n",
    "from mlpath import mlquest as mlq\n",
    "\n",
    "# let's try this out\n",
    "def NaiveBayes(alpha, beta_param, c=0, depth_ratio=4, a_num=5, b_gum=7, c_hum=12):\n",
    "    return alpha + beta_param + c\n",
    "\n",
    "def SVMRegressor(x_param, y_param, z_param, a_num=5, b_gum=7, c_hum=12):\n",
    "    return x_param * y_param * z_param\n",
    "\n",
    "def DeepNeuralNet(p_num, k_num, l_num, a_num=5, b_gum=7, c_hum=12):\n",
    "    return p_num**k_num + l_num\n",
    "\n",
    "\n",
    "mlq.start_quest('xyz', log_defs=True)\n",
    "\n",
    "accuracy = mlq.l(NaiveBayes)(alpha=1024, beta_param=7, c=12 )\n",
    "gesult = mlq.l(SVMRegressor)(14, 510, 4)\n",
    "result = mlq.l(DeepNeuralNet)(12, 2, 3)\n",
    "#mlq.log_metrics(accuracy=accuracy, gesult=gesult, result=result)\n",
    "\n",
    "mlq.end_quest()\n",
    "\n"
   ]
  },
  {
   "cell_type": "code",
   "execution_count": 3,
   "metadata": {},
   "outputs": [
    {
     "ename": "FileNotFoundError",
     "evalue": "[Errno 2] No such file or directory: 'Projects'",
     "output_type": "error",
     "traceback": [
      "\u001b[0;31m---------------------------------------------------------------------------\u001b[0m",
      "\u001b[0;31mFileNotFoundError\u001b[0m                         Traceback (most recent call last)",
      "\u001b[1;32m/Users/essam/Documents/GitHub/MLPath/main.ipynb Cell 2\u001b[0m in \u001b[0;36m<cell line: 3>\u001b[0;34m()\u001b[0m\n\u001b[1;32m      <a href='vscode-notebook-cell:/Users/essam/Documents/GitHub/MLPath/main.ipynb#W1sZmlsZQ%3D%3D?line=0'>1</a>\u001b[0m \u001b[39m# compress the Projects folder\u001b[39;00m\n\u001b[1;32m      <a href='vscode-notebook-cell:/Users/essam/Documents/GitHub/MLPath/main.ipynb#W1sZmlsZQ%3D%3D?line=1'>2</a>\u001b[0m \u001b[39mimport\u001b[39;00m \u001b[39mshutil\u001b[39;00m\n\u001b[0;32m----> <a href='vscode-notebook-cell:/Users/essam/Documents/GitHub/MLPath/main.ipynb#W1sZmlsZQ%3D%3D?line=2'>3</a>\u001b[0m shutil\u001b[39m.\u001b[39;49mmake_archive(\u001b[39m'\u001b[39;49m\u001b[39mProjects\u001b[39;49m\u001b[39m'\u001b[39;49m, \u001b[39m'\u001b[39;49m\u001b[39mzip\u001b[39;49m\u001b[39m'\u001b[39;49m, \u001b[39m'\u001b[39;49m\u001b[39mProjects\u001b[39;49m\u001b[39m'\u001b[39;49m)\n",
      "File \u001b[0;32m/opt/anaconda3/lib/python3.8/shutil.py:1027\u001b[0m, in \u001b[0;36mmake_archive\u001b[0;34m(base_name, format, root_dir, base_dir, verbose, dry_run, owner, group, logger)\u001b[0m\n\u001b[1;32m   1025\u001b[0m     base_name \u001b[39m=\u001b[39m os\u001b[39m.\u001b[39mpath\u001b[39m.\u001b[39mabspath(base_name)\n\u001b[1;32m   1026\u001b[0m     \u001b[39mif\u001b[39;00m \u001b[39mnot\u001b[39;00m dry_run:\n\u001b[0;32m-> 1027\u001b[0m         os\u001b[39m.\u001b[39;49mchdir(root_dir)\n\u001b[1;32m   1029\u001b[0m \u001b[39mif\u001b[39;00m base_dir \u001b[39mis\u001b[39;00m \u001b[39mNone\u001b[39;00m:\n\u001b[1;32m   1030\u001b[0m     base_dir \u001b[39m=\u001b[39m os\u001b[39m.\u001b[39mcurdir\n",
      "\u001b[0;31mFileNotFoundError\u001b[0m: [Errno 2] No such file or directory: 'Projects'"
     ]
    }
   ],
   "source": [
    "# compress the Projects folder\n",
    "#import shutil\n",
    "#shutil.make_archive('Projects', 'zip', 'Projects')"
   ]
  }
 ],
 "metadata": {
  "kernelspec": {
   "display_name": "base",
   "language": "python",
   "name": "python3"
  },
  "language_info": {
   "codemirror_mode": {
    "name": "ipython",
    "version": 3
   },
   "file_extension": ".py",
   "mimetype": "text/x-python",
   "name": "python",
   "nbconvert_exporter": "python",
   "pygments_lexer": "ipython3",
   "version": "3.8.8"
  },
  "orig_nbformat": 4,
  "vscode": {
   "interpreter": {
    "hash": "40d3a090f54c6569ab1632332b64b2c03c39dcf918b08424e98f38b5ae0af88f"
   }
  }
 },
 "nbformat": 4,
 "nbformat_minor": 2
}
