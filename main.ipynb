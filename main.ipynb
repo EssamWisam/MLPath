{
 "cells": [
  {
   "cell_type": "code",
   "execution_count": 3,
   "metadata": {},
   "outputs": [],
   "source": [
    "\"\"\"\n",
    "An example of using the mlpath package.\n",
    "\"\"\"\n",
    "# pylint: skip-file\n",
    "from mlpath import mlquest as mlq\n",
    "\n",
    "# let's try this out\n",
    "def NaiveBayes(alpha, beta_param, c=0, depth_ratio=4, **kwargs):\n",
    "    return alpha + beta_param + c\n",
    "\n",
    "def SVMRegressor(x_param, y_param, z_param, **kwargs):\n",
    "    return x_param * y_param * z_param\n",
    "\n",
    "def DeepNeuralNet(p_num, k_num, l_num, **kwargs):\n",
    "    return p_num**k_num + l_num\n",
    "\n",
    "mlq.start('xyz')\n",
    "\n",
    "accuracy = mlq.l(NaiveBayes)(alpha=1024, beta_param=7, c=12,  depth_ratio=538, mega_p=63, g_estim=3, h=43)\n",
    "gesult = mlq.l(SVMRegressor)(14, 510, 4, m_num=63, g_num=3, h_num=4)\n",
    "result = mlq.l(DeepNeuralNet)(12, 2, 3, m_num=62, g_num=3, h_num=4)\n",
    "\n",
    "mlq.end()"
   ]
  }
 ],
 "metadata": {
  "kernelspec": {
   "display_name": "base",
   "language": "python",
   "name": "python3"
  },
  "language_info": {
   "codemirror_mode": {
    "name": "ipython",
    "version": 3
   },
   "file_extension": ".py",
   "mimetype": "text/x-python",
   "name": "python",
   "nbconvert_exporter": "python",
   "pygments_lexer": "ipython3",
   "version": "3.8.8"
  },
  "orig_nbformat": 4,
  "vscode": {
   "interpreter": {
    "hash": "40d3a090f54c6569ab1632332b64b2c03c39dcf918b08424e98f38b5ae0af88f"
   }
  }
 },
 "nbformat": 4,
 "nbformat_minor": 2
}
