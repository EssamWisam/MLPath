{
 "cells": [
  {
   "cell_type": "code",
   "execution_count": 17,
   "metadata": {},
   "outputs": [],
   "source": [
    "\"\"\"\n",
    "An example of using the mlpath package.\n",
    "\"\"\"\n",
    "# pylint: skip-file\n",
    "from mlpath import mlquest as mlq\n",
    "\n",
    "# let's try this out\n",
    "def NaiveBayes(alpha, beta_param, c=0, depth_ratio=4, a_num=5, b_gum=7, c_hum=12):\n",
    "    return alpha + beta_param + c\n",
    "\n",
    "def SVMRegressor(x_param, y_param, z_param, a_num=5, b_gum=7, c_hum=12):\n",
    "    return x_param * y_param * z_param\n",
    "\n",
    "def DeepNeuralNet(p_num, k_num, l_num, a_num=5, b_gum=7, c_hum=12):\n",
    "    return p_num**k_num + l_num\n",
    "\n",
    "\n",
    "mlq.start_quest('xyz', log_defs=True)\n",
    "\n",
    "accuracy = mlq.l(NaiveBayes)(alpha=1024, beta_param=7, c=12 )\n",
    "gesult = mlq.l(SVMRegressor)(14, 510, 4)\n",
    "result = mlq.l(DeepNeuralNet)(12, 2, 3)\n",
    "#mlq.log_metrics(accuracy=accuracy, gesult=gesult, result=result)\n",
    "\n",
    "mlq.end_quest()\n",
    "\n"
   ]
  },
  {
   "cell_type": "code",
   "execution_count": 18,
   "metadata": {},
   "outputs": [],
   "source": [
    "# compress the Projects folder\n",
    "#import shutil\n",
    "#shutil.make_archive('Projects', 'zip', 'Projects')"
   ]
  }
 ],
 "metadata": {
  "kernelspec": {
   "display_name": "base",
   "language": "python",
   "name": "python3"
  },
  "language_info": {
   "codemirror_mode": {
    "name": "ipython",
    "version": 3
   },
   "file_extension": ".py",
   "mimetype": "text/x-python",
   "name": "python",
   "nbconvert_exporter": "python",
   "pygments_lexer": "ipython3",
   "version": "3.8.8"
  },
  "orig_nbformat": 4,
  "vscode": {
   "interpreter": {
    "hash": "40d3a090f54c6569ab1632332b64b2c03c39dcf918b08424e98f38b5ae0af88f"
   }
  }
 },
 "nbformat": 4,
 "nbformat_minor": 2
}
